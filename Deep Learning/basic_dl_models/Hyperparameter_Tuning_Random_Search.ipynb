{
  "nbformat": 4,
  "nbformat_minor": 0,
  "metadata": {
    "colab": {
      "name": "Hyperparameter Tuning - Random Search.ipynb",
      "provenance": [],
      "collapsed_sections": []
    },
    "kernelspec": {
      "name": "python3",
      "display_name": "Python 3"
    },
    "language_info": {
      "name": "python"
    }
  },
  "cells": [
    {
      "cell_type": "code",
      "metadata": {
        "colab": {
          "base_uri": "https://localhost:8080/"
        },
        "id": "7xga0lIQvkjR",
        "outputId": "1be920fe-d9fa-46e1-e2e8-82c94b615479"
      },
      "source": [
        "pip install -U keras.tuner"
      ],
      "execution_count": null,
      "outputs": [
        {
          "output_type": "stream",
          "text": [
            "Collecting keras.tuner\n",
            "\u001b[?25l  Downloading https://files.pythonhosted.org/packages/20/ec/1ef246787174b1e2bb591c95f29d3c1310070cad877824f907faba3dade9/keras-tuner-1.0.2.tar.gz (62kB)\n",
            "\r\u001b[K     |█████▏                          | 10kB 15.1MB/s eta 0:00:01\r\u001b[K     |██████████▍                     | 20kB 20.3MB/s eta 0:00:01\r\u001b[K     |███████████████▋                | 30kB 10.9MB/s eta 0:00:01\r\u001b[K     |████████████████████▉           | 40kB 8.8MB/s eta 0:00:01\r\u001b[K     |██████████████████████████      | 51kB 5.6MB/s eta 0:00:01\r\u001b[K     |███████████████████████████████▎| 61kB 6.5MB/s eta 0:00:01\r\u001b[K     |████████████████████████████████| 71kB 4.4MB/s \n",
            "\u001b[?25hRequirement already satisfied, skipping upgrade: packaging in /usr/local/lib/python3.7/dist-packages (from keras.tuner) (20.9)\n",
            "Requirement already satisfied, skipping upgrade: future in /usr/local/lib/python3.7/dist-packages (from keras.tuner) (0.16.0)\n",
            "Requirement already satisfied, skipping upgrade: numpy in /usr/local/lib/python3.7/dist-packages (from keras.tuner) (1.19.5)\n",
            "Requirement already satisfied, skipping upgrade: tabulate in /usr/local/lib/python3.7/dist-packages (from keras.tuner) (0.8.9)\n",
            "Collecting terminaltables\n",
            "  Downloading https://files.pythonhosted.org/packages/9b/c4/4a21174f32f8a7e1104798c445dacdc1d4df86f2f26722767034e4de4bff/terminaltables-3.1.0.tar.gz\n",
            "Collecting colorama\n",
            "  Downloading https://files.pythonhosted.org/packages/44/98/5b86278fbbf250d239ae0ecb724f8572af1c91f4a11edf4d36a206189440/colorama-0.4.4-py2.py3-none-any.whl\n",
            "Requirement already satisfied, skipping upgrade: tqdm in /usr/local/lib/python3.7/dist-packages (from keras.tuner) (4.41.1)\n",
            "Requirement already satisfied, skipping upgrade: requests in /usr/local/lib/python3.7/dist-packages (from keras.tuner) (2.23.0)\n",
            "Requirement already satisfied, skipping upgrade: scipy in /usr/local/lib/python3.7/dist-packages (from keras.tuner) (1.4.1)\n",
            "Requirement already satisfied, skipping upgrade: scikit-learn in /usr/local/lib/python3.7/dist-packages (from keras.tuner) (0.22.2.post1)\n",
            "Requirement already satisfied, skipping upgrade: pyparsing>=2.0.2 in /usr/local/lib/python3.7/dist-packages (from packaging->keras.tuner) (2.4.7)\n",
            "Requirement already satisfied, skipping upgrade: urllib3!=1.25.0,!=1.25.1,<1.26,>=1.21.1 in /usr/local/lib/python3.7/dist-packages (from requests->keras.tuner) (1.24.3)\n",
            "Requirement already satisfied, skipping upgrade: idna<3,>=2.5 in /usr/local/lib/python3.7/dist-packages (from requests->keras.tuner) (2.10)\n",
            "Requirement already satisfied, skipping upgrade: certifi>=2017.4.17 in /usr/local/lib/python3.7/dist-packages (from requests->keras.tuner) (2020.12.5)\n",
            "Requirement already satisfied, skipping upgrade: chardet<4,>=3.0.2 in /usr/local/lib/python3.7/dist-packages (from requests->keras.tuner) (3.0.4)\n",
            "Requirement already satisfied, skipping upgrade: joblib>=0.11 in /usr/local/lib/python3.7/dist-packages (from scikit-learn->keras.tuner) (1.0.1)\n",
            "Building wheels for collected packages: keras.tuner, terminaltables\n",
            "  Building wheel for keras.tuner (setup.py) ... \u001b[?25l\u001b[?25hdone\n",
            "  Created wheel for keras.tuner: filename=keras_tuner-1.0.2-cp37-none-any.whl size=78938 sha256=5c1017ed2847665d0ef539f0de066295952c79194d4564fa04ada1c90dff6b0b\n",
            "  Stored in directory: /root/.cache/pip/wheels/bb/a1/8a/7c3de0efb3707a1701b36ebbfdbc4e67aedf6d4943a1f463d6\n",
            "  Building wheel for terminaltables (setup.py) ... \u001b[?25l\u001b[?25hdone\n",
            "  Created wheel for terminaltables: filename=terminaltables-3.1.0-cp37-none-any.whl size=15356 sha256=412985a913e14b40624a23d8a1db7e337a91dd8bfd000ab263e15eddc65ac570\n",
            "  Stored in directory: /root/.cache/pip/wheels/30/6b/50/6c75775b681fb36cdfac7f19799888ef9d8813aff9e379663e\n",
            "Successfully built keras.tuner terminaltables\n",
            "Installing collected packages: terminaltables, colorama, keras.tuner\n",
            "Successfully installed colorama-0.4.4 keras.tuner terminaltables-3.1.0\n"
          ],
          "name": "stdout"
        }
      ]
    },
    {
      "cell_type": "code",
      "metadata": {
        "id": "Htg7cLSNvYyE"
      },
      "source": [
        "import tensorflow as tf\n",
        "import numpy as np\n",
        "import keras\n",
        "from tensorflow.keras import datasets, layers, models, losses, optimizers\n",
        "import matplotlib.pyplot as plt\n",
        "from keras.utils import np_utils\n",
        "from tensorflow.keras.layers import Dense, Dropout, Flatten, BatchNormalization, Conv2D, MaxPooling2D\n",
        "from tensorflow.keras.constraints import max_norm\n",
        "from tensorflow.keras.models import Model\n",
        "from sklearn.metrics import accuracy_score, precision_score, recall_score\n",
        "from sklearn.model_selection import train_test_split"
      ],
      "execution_count": null,
      "outputs": []
    },
    {
      "cell_type": "markdown",
      "metadata": {
        "id": "1eKb6Opews6I"
      },
      "source": [
        "##Load Data"
      ]
    },
    {
      "cell_type": "code",
      "metadata": {
        "colab": {
          "base_uri": "https://localhost:8080/"
        },
        "id": "uBYGwlQQvdjL",
        "outputId": "85f477a5-20b5-453c-de80-05f996087e8b"
      },
      "source": [
        "#Creating the training and testing sets \n",
        "(X_train, y_train), (X_test, y_test) = datasets.cifar10.load_data()\n",
        "\n",
        "#Creating the Validation Sets\n",
        "X_train, X_val, y_train, y_val = train_test_split(X_train, y_train, test_size = 0.2, random_state = 1, shuffle = True)"
      ],
      "execution_count": null,
      "outputs": [
        {
          "output_type": "stream",
          "text": [
            "Downloading data from https://www.cs.toronto.edu/~kriz/cifar-10-python.tar.gz\n",
            "170500096/170498071 [==============================] - 2s 0us/step\n"
          ],
          "name": "stdout"
        }
      ]
    },
    {
      "cell_type": "code",
      "metadata": {
        "colab": {
          "base_uri": "https://localhost:8080/"
        },
        "id": "tvQe4YIDxGym",
        "outputId": "6b2d7e1a-4291-4cee-f7a5-806259c2882d"
      },
      "source": [
        "print(\"X_train shape: \", X_train.shape)\n",
        "print(\"X_val shape: \", X_val.shape)\n",
        "print(\"X_test shape: \", X_test.shape)"
      ],
      "execution_count": null,
      "outputs": [
        {
          "output_type": "stream",
          "text": [
            "X_train shape:  (40000, 32, 32, 3)\n",
            "X_val shape:  (10000, 32, 32, 3)\n",
            "X_test shape:  (10000, 32, 32, 3)\n"
          ],
          "name": "stdout"
        }
      ]
    },
    {
      "cell_type": "markdown",
      "metadata": {
        "id": "USQGJXVWw_Fi"
      },
      "source": [
        "##Normalizing the Data"
      ]
    },
    {
      "cell_type": "code",
      "metadata": {
        "id": "K-1-BxV4w86u"
      },
      "source": [
        "#Normalising the inputs to range between 0 and 1 by dividing by 255\n",
        "#Since it is very common to use 32 bit precision when training a neural network, the training data \n",
        "#will be converted to float32 type, might as well convert it before dividing by 255\n",
        "\n",
        "X_train = X_train.astype('float32')\n",
        "X_val = X_val.astype('float32')\n",
        "X_test = X_test.astype('float32')\n",
        "\n",
        "X_train = X_train/255.0\n",
        "X_val = X_val/255.0\n",
        "X_test = X_test/255.0"
      ],
      "execution_count": null,
      "outputs": []
    },
    {
      "cell_type": "markdown",
      "metadata": {
        "id": "9gEc8GkaxMaO"
      },
      "source": [
        "##One-Hot Encoding the Labels"
      ]
    },
    {
      "cell_type": "code",
      "metadata": {
        "id": "M4Bf_WaYxKlR"
      },
      "source": [
        "#One Hot Encoding the Labels\n",
        "y_train = np_utils.to_categorical(y_train)\n",
        "y_val = np_utils.to_categorical(y_val)\n",
        "y_test = np_utils.to_categorical(y_test)"
      ],
      "execution_count": null,
      "outputs": []
    },
    {
      "cell_type": "code",
      "metadata": {
        "colab": {
          "base_uri": "https://localhost:8080/"
        },
        "id": "ZzpM0K91zJaz",
        "outputId": "9dab7712-13c5-4d5d-efab-70e581e6fa1c"
      },
      "source": [
        "print(X_train.shape)"
      ],
      "execution_count": null,
      "outputs": [
        {
          "output_type": "stream",
          "text": [
            "(40000, 32, 32, 3)\n"
          ],
          "name": "stdout"
        }
      ]
    },
    {
      "cell_type": "markdown",
      "metadata": {
        "id": "QOUb6bjNxRgb"
      },
      "source": [
        "##Custom CNN"
      ]
    },
    {
      "cell_type": "code",
      "metadata": {
        "id": "-cRq7Qh5p50F"
      },
      "source": [
        "from kerastuner.tuners import RandomSearch\n",
        "from kerastuner.engine.hyperparameters import HyperParameters"
      ],
      "execution_count": null,
      "outputs": []
    },
    {
      "cell_type": "code",
      "metadata": {
        "id": "4E3lnISYxQnB"
      },
      "source": [
        "def custom_cnn_model(hp):\n",
        "  model = tf.keras.models.Sequential()\n",
        "\n",
        "  #1st CONVOLUTIONAL LAYER\n",
        "  #Hyperparameters - a) Number of Filters used   b) Size of the filter\n",
        "  model.add(Conv2D(filters = hp.Int(name = 'conv_1_filter', min_value = 32, max_value = 128, step = 20), kernel_size = hp.Choice(name = 'conv_1_kernel_size', values = [2,3]), activation = \"relu\", input_shape = (32,32,3)))\n",
        "\n",
        "  #1st POOLING LAYER    \n",
        "  #Hyperparamters - a) Dropout Rate                         \n",
        "  model.add(MaxPooling2D(pool_size = (2,2), strides = 2)),\n",
        "  model.add(Dropout(rate=hp.Float(name = 'dropout_1', min_value = 0.2, max_value = 0.5, step = 0.1))),\n",
        "  model.add(BatchNormalization()),\n",
        "\n",
        "  #2nd CONVOLUTIONAL LAYER\n",
        "  #Hyperparameters - a) Number of Filters used   b) Size of the filter\n",
        "  model.add(Conv2D(filters = hp.Int(name = 'conv_3_filter', min_value = 32, max_value = 128, step = 20), kernel_size = hp.Choice(name = 'conv_3_kernel_size', values = [2,3]), activation = \"relu\")),\n",
        "\n",
        "  #FLATTEN                             \n",
        "  model.add(Flatten())\n",
        "\n",
        "  #1st DENSE LAYER\n",
        "  #Hyperparameters - a) Number of Neurons in the Dense Layer   b) Dropout Rate\n",
        "  model.add(Dense(units = hp.Int(name = 'fc_1_units', min_value = 32, max_value = 128, step = 20), activation = \"relu\"))\n",
        "  model.add(Dropout(rate=hp.Float(name = 'dropout_fc1', min_value = 0.2, max_value = 0.5, step = 0.1)))\n",
        "  model.add(BatchNormalization())\n",
        "                               \n",
        "  #2nd DENSE LAYER \n",
        "  #Hyperparameters - a) Number of Neurons in the Dense Layer   b) Dropout Rate                            \n",
        "  model.add(Dense(units = hp.Int(name='fc_2_units', min_value = 32, max_value = 128, step = 20), activation = \"relu\"))\n",
        "  model.add(Dropout(rate=hp.Float(name='dropout_fc2', min_value = 0.2, max_value = 0.5, step = 0.1)))\n",
        "  model.add(BatchNormalization())                        \n",
        "                               \n",
        "  #OUTPUT LAYER\n",
        "  model.add(Dense(units = 10, activation = \"softmax\"))\n",
        "  \n",
        "\n",
        "  #Compiling the Model\n",
        "  #Hyperparameter - a) Learning Rate\n",
        "  model.compile(optimizer=keras.optimizers.Adam(hp.Choice(name = 'learning_rate', values=[0.01,0.001])),\n",
        "              loss='categorical_crossentropy',\n",
        "              metrics=['accuracy'])\n",
        "  \n",
        "  return model\n",
        "\n",
        "#Therefore all in all there are 10 hyperparameters that we are observing/monitoring"
      ],
      "execution_count": null,
      "outputs": []
    },
    {
      "cell_type": "code",
      "metadata": {
        "id": "bwke7aHGxTF_"
      },
      "source": [
        "#creating an instance\n",
        "#only going to try it 5 times and each time it tries with 3 different models\n",
        "tuner = RandomSearch(\n",
        "    custom_cnn_model, objective = \"val_accuracy\", max_trials = 5, executions_per_trial = 3,\n",
        "    directory = \"my_dir\", project_name = \"cifar10_cnn\" #saves teh weights\n",
        ")"
      ],
      "execution_count": null,
      "outputs": []
    },
    {
      "cell_type": "code",
      "metadata": {
        "colab": {
          "base_uri": "https://localhost:8080/"
        },
        "id": "UekbOyAyyKS1",
        "outputId": "60cc1dfb-3d97-433b-a71f-4a2a53460d69"
      },
      "source": [
        "tuner.search_space_summary()\n",
        "#The search space size = 10 as there are 10 hyperparameters that we are observing"
      ],
      "execution_count": null,
      "outputs": [
        {
          "output_type": "stream",
          "text": [
            "Search space summary\n",
            "Default search space size: 10\n",
            "conv_1_filter (Int)\n",
            "{'default': None, 'conditions': [], 'min_value': 32, 'max_value': 128, 'step': 20, 'sampling': None}\n",
            "conv_1_kernel_size (Choice)\n",
            "{'default': 2, 'conditions': [], 'values': [2, 3], 'ordered': True}\n",
            "dropout_1 (Float)\n",
            "{'default': 0.2, 'conditions': [], 'min_value': 0.2, 'max_value': 0.5, 'step': 0.1, 'sampling': None}\n",
            "conv_3_filter (Int)\n",
            "{'default': None, 'conditions': [], 'min_value': 32, 'max_value': 128, 'step': 20, 'sampling': None}\n",
            "conv_3_kernel_size (Choice)\n",
            "{'default': 2, 'conditions': [], 'values': [2, 3], 'ordered': True}\n",
            "fc_1_units (Int)\n",
            "{'default': None, 'conditions': [], 'min_value': 32, 'max_value': 128, 'step': 20, 'sampling': None}\n",
            "dropout_fc1 (Float)\n",
            "{'default': 0.2, 'conditions': [], 'min_value': 0.2, 'max_value': 0.5, 'step': 0.1, 'sampling': None}\n",
            "fc_2_units (Int)\n",
            "{'default': None, 'conditions': [], 'min_value': 32, 'max_value': 128, 'step': 20, 'sampling': None}\n",
            "dropout_fc2 (Float)\n",
            "{'default': 0.2, 'conditions': [], 'min_value': 0.2, 'max_value': 0.5, 'step': 0.1, 'sampling': None}\n",
            "learning_rate (Choice)\n",
            "{'default': 0.01, 'conditions': [], 'values': [0.01, 0.001], 'ordered': True}\n"
          ],
          "name": "stdout"
        }
      ]
    },
    {
      "cell_type": "code",
      "metadata": {
        "colab": {
          "base_uri": "https://localhost:8080/"
        },
        "id": "vgZoj0BNztAe",
        "outputId": "4114a328-c10f-46be-bec5-541bc6ad01ac"
      },
      "source": [
        "tuner.search(X_train, y_train, epochs = 5, validation_data = (X_val, y_val))"
      ],
      "execution_count": null,
      "outputs": [
        {
          "output_type": "stream",
          "text": [
            "INFO:tensorflow:Oracle triggered exit\n"
          ],
          "name": "stdout"
        }
      ]
    },
    {
      "cell_type": "code",
      "metadata": {
        "colab": {
          "base_uri": "https://localhost:8080/"
        },
        "id": "dmlTi501UNqo",
        "outputId": "f3dfdda9-df40-475d-ce5b-ed735f33b6c8"
      },
      "source": [
        "tuner.results_summary()"
      ],
      "execution_count": null,
      "outputs": [
        {
          "output_type": "stream",
          "text": [
            "Results summary\n",
            "Results in my_dir/cifar10_cnn\n",
            "Showing 10 best trials\n",
            "Objective(name='val_accuracy', direction='max')\n",
            "Trial summary\n",
            "Hyperparameters:\n",
            "conv_1_filter: 52\n",
            "conv_1_kernel_size: 2\n",
            "dropout_1: 0.30000000000000004\n",
            "conv_3_filter: 92\n",
            "conv_3_kernel_size: 2\n",
            "fc_1_units: 72\n",
            "dropout_fc1: 0.2\n",
            "fc_2_units: 92\n",
            "dropout_fc2: 0.4000000000000001\n",
            "learning_rate: 0.001\n",
            "Score: 0.6434666713078817\n",
            "Trial summary\n",
            "Hyperparameters:\n",
            "conv_1_filter: 72\n",
            "conv_1_kernel_size: 2\n",
            "dropout_1: 0.2\n",
            "conv_3_filter: 72\n",
            "conv_3_kernel_size: 2\n",
            "fc_1_units: 112\n",
            "dropout_fc1: 0.4000000000000001\n",
            "fc_2_units: 72\n",
            "dropout_fc2: 0.30000000000000004\n",
            "learning_rate: 0.001\n",
            "Score: 0.6158000032107035\n",
            "Trial summary\n",
            "Hyperparameters:\n",
            "conv_1_filter: 112\n",
            "conv_1_kernel_size: 3\n",
            "dropout_1: 0.2\n",
            "conv_3_filter: 92\n",
            "conv_3_kernel_size: 2\n",
            "fc_1_units: 52\n",
            "dropout_fc1: 0.30000000000000004\n",
            "fc_2_units: 92\n",
            "dropout_fc2: 0.2\n",
            "learning_rate: 0.01\n",
            "Score: 0.5822333296140035\n",
            "Trial summary\n",
            "Hyperparameters:\n",
            "conv_1_filter: 52\n",
            "conv_1_kernel_size: 2\n",
            "dropout_1: 0.2\n",
            "conv_3_filter: 72\n",
            "conv_3_kernel_size: 3\n",
            "fc_1_units: 72\n",
            "dropout_fc1: 0.4000000000000001\n",
            "fc_2_units: 112\n",
            "dropout_fc2: 0.30000000000000004\n",
            "learning_rate: 0.01\n",
            "Score: 0.528466651837031\n",
            "Trial summary\n",
            "Hyperparameters:\n",
            "conv_1_filter: 92\n",
            "conv_1_kernel_size: 2\n",
            "dropout_1: 0.30000000000000004\n",
            "conv_3_filter: 72\n",
            "conv_3_kernel_size: 3\n",
            "fc_1_units: 72\n",
            "dropout_fc1: 0.30000000000000004\n",
            "fc_2_units: 92\n",
            "dropout_fc2: 0.5000000000000001\n",
            "learning_rate: 0.01\n",
            "Score: 0.4565333177646001\n"
          ],
          "name": "stdout"
        }
      ]
    },
    {
      "cell_type": "code",
      "metadata": {
        "id": "K36qCLMgXVJ1"
      },
      "source": [
        "model = tuner.get_best_models(num_models=1)[0]"
      ],
      "execution_count": null,
      "outputs": []
    },
    {
      "cell_type": "code",
      "metadata": {
        "colab": {
          "base_uri": "https://localhost:8080/"
        },
        "id": "4CCvZY5gddpZ",
        "outputId": "82baa562-7d87-46b2-cb1b-93b8018d25e2"
      },
      "source": [
        "best_hp = tuner.get_best_hyperparameters()[0]\n",
        "model = tuner.hypermodel.build(best_hp)"
      ],
      "execution_count": null,
      "outputs": [
        {
          "output_type": "stream",
          "text": [
            "WARNING:tensorflow:Unresolved object in checkpoint: (root).optimizer.iter\n",
            "WARNING:tensorflow:Unresolved object in checkpoint: (root).optimizer.beta_1\n",
            "WARNING:tensorflow:Unresolved object in checkpoint: (root).optimizer.beta_2\n",
            "WARNING:tensorflow:Unresolved object in checkpoint: (root).optimizer.decay\n",
            "WARNING:tensorflow:Unresolved object in checkpoint: (root).optimizer.learning_rate\n",
            "WARNING:tensorflow:A checkpoint was restored (e.g. tf.train.Checkpoint.restore or tf.keras.Model.load_weights) but not all checkpointed values were used. See above for specific issues. Use expect_partial() on the load status object, e.g. tf.train.Checkpoint.restore(...).expect_partial(), to silence these warnings, or use assert_consumed() to make the check explicit. See https://www.tensorflow.org/guide/checkpoint#loading_mechanics for details.\n"
          ],
          "name": "stdout"
        }
      ]
    },
    {
      "cell_type": "code",
      "metadata": {
        "colab": {
          "base_uri": "https://localhost:8080/"
        },
        "id": "ZasQ5onUci6K",
        "outputId": "f926e78b-4fa9-4161-a17f-170d85da90da"
      },
      "source": [
        "model.summary()"
      ],
      "execution_count": null,
      "outputs": [
        {
          "output_type": "stream",
          "text": [
            "Model: \"sequential\"\n",
            "_________________________________________________________________\n",
            "Layer (type)                 Output Shape              Param #   \n",
            "=================================================================\n",
            "conv2d (Conv2D)              (None, 31, 31, 52)        676       \n",
            "_________________________________________________________________\n",
            "max_pooling2d (MaxPooling2D) (None, 15, 15, 52)        0         \n",
            "_________________________________________________________________\n",
            "dropout (Dropout)            (None, 15, 15, 52)        0         \n",
            "_________________________________________________________________\n",
            "batch_normalization (BatchNo (None, 15, 15, 52)        208       \n",
            "_________________________________________________________________\n",
            "conv2d_1 (Conv2D)            (None, 14, 14, 92)        19228     \n",
            "_________________________________________________________________\n",
            "flatten (Flatten)            (None, 18032)             0         \n",
            "_________________________________________________________________\n",
            "dense (Dense)                (None, 72)                1298376   \n",
            "_________________________________________________________________\n",
            "dropout_1 (Dropout)          (None, 72)                0         \n",
            "_________________________________________________________________\n",
            "batch_normalization_1 (Batch (None, 72)                288       \n",
            "_________________________________________________________________\n",
            "dense_1 (Dense)              (None, 92)                6716      \n",
            "_________________________________________________________________\n",
            "dropout_2 (Dropout)          (None, 92)                0         \n",
            "_________________________________________________________________\n",
            "batch_normalization_2 (Batch (None, 92)                368       \n",
            "_________________________________________________________________\n",
            "dense_2 (Dense)              (None, 10)                930       \n",
            "=================================================================\n",
            "Total params: 1,326,790\n",
            "Trainable params: 1,326,358\n",
            "Non-trainable params: 432\n",
            "_________________________________________________________________\n"
          ],
          "name": "stdout"
        }
      ]
    },
    {
      "cell_type": "code",
      "metadata": {
        "id": "jmxNYvdrobTH"
      },
      "source": [
        "#Callbacks\n",
        "filepath_a =\"weights-improvement-{epoch:02d}-{val_accuracy:.2f}.hdf5\"\n",
        "\n",
        "my_callbacks = [\n",
        "                \n",
        "                #Will monitor the validation loss and training loop will check at end of every epoch \n",
        "                #whether the loss is no longer decreasing, will end early if there has been no loss change\n",
        "                #for 5 epochs\n",
        "                \n",
        "                tf.keras.callbacks.EarlyStopping(monitor = 'val_accuracy', mode = \"max\", patience = 5),\n",
        "\n",
        "                #To save the Weights at some interval\n",
        "                tf.keras.callbacks.ModelCheckpoint(monitor = \"val_loss\", mode = \"min\", filepath=filepath_a, save_best_only=True)\n",
        "\n",
        "                #Learning Rate Scheduler - for variable learning rate\n",
        "                #tf.keras.callbacks.LearningRateScheduler(lr_scheduler)\n",
        "]"
      ],
      "execution_count": null,
      "outputs": []
    },
    {
      "cell_type": "code",
      "metadata": {
        "colab": {
          "base_uri": "https://localhost:8080/"
        },
        "id": "8VmEdfP23U-m",
        "outputId": "5eb3fac2-8668-4d0f-9840-d0ddb8aa4ccb"
      },
      "source": [
        "hist_1 = model.fit(X_train, y_train, validation_data = (X_val, y_val), epochs = 50, callbacks = my_callbacks, batch_size = 64)"
      ],
      "execution_count": null,
      "outputs": [
        {
          "output_type": "stream",
          "text": [
            "Epoch 1/50\n",
            "625/625 [==============================] - 83s 131ms/step - loss: 2.0336 - accuracy: 0.2916 - val_loss: 1.3798 - val_accuracy: 0.5193\n",
            "Epoch 2/50\n",
            "625/625 [==============================] - 84s 134ms/step - loss: 1.3719 - accuracy: 0.5091 - val_loss: 1.3365 - val_accuracy: 0.5363\n",
            "Epoch 3/50\n",
            "625/625 [==============================] - 81s 129ms/step - loss: 1.2074 - accuracy: 0.5760 - val_loss: 1.0312 - val_accuracy: 0.6377\n",
            "Epoch 4/50\n",
            "625/625 [==============================] - 80s 128ms/step - loss: 1.1085 - accuracy: 0.6136 - val_loss: 0.9888 - val_accuracy: 0.6471\n",
            "Epoch 5/50\n",
            "625/625 [==============================] - 82s 131ms/step - loss: 1.0307 - accuracy: 0.6389 - val_loss: 1.1023 - val_accuracy: 0.6289\n",
            "Epoch 6/50\n",
            "625/625 [==============================] - 84s 135ms/step - loss: 0.9541 - accuracy: 0.6684 - val_loss: 0.9714 - val_accuracy: 0.6557\n",
            "Epoch 7/50\n",
            "625/625 [==============================] - 81s 129ms/step - loss: 0.9021 - accuracy: 0.6900 - val_loss: 0.9856 - val_accuracy: 0.6563\n",
            "Epoch 8/50\n",
            "625/625 [==============================] - 79s 127ms/step - loss: 0.8630 - accuracy: 0.7034 - val_loss: 0.9326 - val_accuracy: 0.6776\n",
            "Epoch 9/50\n",
            "625/625 [==============================] - 79s 127ms/step - loss: 0.8161 - accuracy: 0.7188 - val_loss: 1.0856 - val_accuracy: 0.6425\n",
            "Epoch 10/50\n",
            "625/625 [==============================] - 80s 129ms/step - loss: 0.7616 - accuracy: 0.7341 - val_loss: 1.0582 - val_accuracy: 0.6519\n",
            "Epoch 11/50\n",
            "625/625 [==============================] - 81s 129ms/step - loss: 0.7262 - accuracy: 0.7508 - val_loss: 0.9501 - val_accuracy: 0.6791\n",
            "Epoch 12/50\n",
            "625/625 [==============================] - 82s 131ms/step - loss: 0.6883 - accuracy: 0.7644 - val_loss: 0.9044 - val_accuracy: 0.6957\n",
            "Epoch 13/50\n",
            "625/625 [==============================] - 79s 126ms/step - loss: 0.6466 - accuracy: 0.7767 - val_loss: 1.0474 - val_accuracy: 0.6554\n",
            "Epoch 14/50\n",
            "625/625 [==============================] - 75s 120ms/step - loss: 0.6217 - accuracy: 0.7866 - val_loss: 0.9733 - val_accuracy: 0.6746\n",
            "Epoch 15/50\n",
            "625/625 [==============================] - 81s 130ms/step - loss: 0.5970 - accuracy: 0.7962 - val_loss: 1.0729 - val_accuracy: 0.6659\n",
            "Epoch 16/50\n",
            "625/625 [==============================] - 81s 129ms/step - loss: 0.5783 - accuracy: 0.7986 - val_loss: 0.9810 - val_accuracy: 0.6864\n",
            "Epoch 17/50\n",
            "625/625 [==============================] - 80s 128ms/step - loss: 0.5511 - accuracy: 0.8082 - val_loss: 0.9995 - val_accuracy: 0.6849\n"
          ],
          "name": "stdout"
        }
      ]
    },
    {
      "cell_type": "markdown",
      "metadata": {
        "id": "aNQfNUHnme-g"
      },
      "source": [
        "29 epochs with batch size 64"
      ]
    },
    {
      "cell_type": "code",
      "metadata": {
        "id": "Zs6HzN96uzjx"
      },
      "source": [
        "model.save('final_model.h5')"
      ],
      "execution_count": null,
      "outputs": []
    },
    {
      "cell_type": "markdown",
      "metadata": {
        "id": "_2gpb6waoUBC"
      },
      "source": [
        "#Evaluating Model"
      ]
    },
    {
      "cell_type": "code",
      "metadata": {
        "colab": {
          "base_uri": "https://localhost:8080/",
          "height": 295
        },
        "id": "PbXlg7O3oTuM",
        "outputId": "3572a43c-abeb-4801-c8a9-769e126d4a3e"
      },
      "source": [
        "#Plotting the Loss\n",
        "plt.plot(hist_1.history['loss'])\n",
        "plt.plot(hist_1.history['val_loss'])\n",
        "\n",
        "plt.title('Model Loss')\n",
        "plt.ylabel('Loss')\n",
        "plt.xlabel('Epochs')\n",
        "plt.legend(['train', 'validation'], loc='lower left')\n",
        "plt.show()"
      ],
      "execution_count": null,
      "outputs": [
        {
          "output_type": "display_data",
          "data": {
            "image/png": "[encoded data removed]",
            "text/plain": [
              "<Figure size 432x288 with 1 Axes>"
            ]
          },
          "metadata": {
            "tags": [],
            "needs_background": "light"
          }
        }
      ]
    },
    {
      "cell_type": "code",
      "metadata": {
        "colab": {
          "base_uri": "https://localhost:8080/",
          "height": 295
        },
        "id": "tWLWUfQBcD0T",
        "outputId": "843f1c4d-dbc4-4a96-9458-483d429e6633"
      },
      "source": [
        "#Plotting the Accuracy\n",
        "plt.plot(hist_1.history['accuracy'])\n",
        "plt.plot(hist_1.history['val_accuracy'])\n",
        "\n",
        "plt.title('Model Loss')\n",
        "plt.ylabel('Loss')\n",
        "plt.xlabel('Epochs')\n",
        "plt.legend(['train', 'validation'], loc='lower right')\n",
        "plt.show()"
      ],
      "execution_count": null,
      "outputs": [
        {
          "output_type": "display_data",
          "data": {
            "image/png": "[encoded data removed]",
            "text/plain": [
              "<Figure size 432x288 with 1 Axes>"
            ]
          },
          "metadata": {
            "tags": [],
            "needs_background": "light"
          }
        }
      ]
    },
    {
      "cell_type": "code",
      "metadata": {
        "colab": {
          "base_uri": "https://localhost:8080/"
        },
        "id": "uVRn0y4jqf89",
        "outputId": "7a3bfbc4-63a2-41e2-957d-3ab886d06933"
      },
      "source": [
        "print(\"Inital Model\")\n",
        "inital_accuracy = 0.6434666713078817\n",
        "print(\"Max Accuracy: \", inital_accuracy)\n",
        "print(\"\\n\")\n",
        "print(\"After Hyperparameter Tuning\")\n",
        "print(\"Training Set Metrics\")\n",
        "print(\"Max Accuracy: \", max(hist_1.history['accuracy']))\n",
        "print(\"Min Loss: \", min(hist_1.history['loss']))\n",
        "print(\"\\n\")\n",
        "print(\"Validation Set Metrics\")\n",
        "print(\"Max Accuracy: \", max(hist_1.history['val_accuracy']))\n",
        "print(\"Min Loss: \", min(hist_1.history['val_loss']))"
      ],
      "execution_count": null,
      "outputs": [
        {
          "output_type": "stream",
          "text": [
            "Inital Model\n",
            "Max Accuracy:  0.6434666713078817\n",
            "\n",
            "\n",
            "After Hyperparameter Tuning\n",
            "Training Set Metrics\n",
            "Max Accuracy:  0.8029749989509583\n",
            "Min Loss:  0.5656818151473999\n",
            "\n",
            "\n",
            "Validation Set Metrics\n",
            "Max Accuracy:  0.6956999897956848\n",
            "Min Loss:  0.9044349789619446\n"
          ],
          "name": "stdout"
        }
      ]
    },
    {
      "cell_type": "code",
      "metadata": {
        "id": "fTXflYXVs9eY"
      },
      "source": [
        "predictions = model.predict(X_test)"
      ],
      "execution_count": null,
      "outputs": []
    },
    {
      "cell_type": "code",
      "metadata": {
        "colab": {
          "base_uri": "https://localhost:8080/"
        },
        "id": "nSm3okI8teRn",
        "outputId": "008969b4-c297-469d-c7b1-d34b3eb9e46c"
      },
      "source": [
        "predictions"
      ],
      "execution_count": null,
      "outputs": [
        {
          "output_type": "execute_result",
          "data": {
            "text/plain": [
              "array([[6.4218184e-05, 1.7634840e-05, 1.5302432e-03, ..., 6.8270776e-04,\n",
              "        2.0141040e-03, 6.1913117e-05],\n",
              "       [1.1415290e-02, 1.0703349e-03, 3.6050773e-05, ..., 2.4324294e-07,\n",
              "        9.8745930e-01, 4.2778684e-06],\n",
              "       [7.6198131e-02, 2.4427561e-02, 7.5010641e-04, ..., 9.4719295e-04,\n",
              "        8.8692880e-01, 8.0446620e-03],\n",
              "       ...,\n",
              "       [8.5581320e-05, 8.0823438e-06, 2.1812260e-02, ..., 2.3433702e-02,\n",
              "        1.9069923e-04, 1.4821476e-04],\n",
              "       [2.6231210e-03, 9.4276285e-03, 8.1632398e-02, ..., 9.9789478e-02,\n",
              "        5.2797497e-04, 3.6909862e-04],\n",
              "       [4.8764099e-07, 7.9103195e-09, 1.7699353e-04, ..., 9.8750383e-01,\n",
              "        4.0481506e-08, 4.9129621e-08]], dtype=float32)"
            ]
          },
          "metadata": {
            "tags": []
          },
          "execution_count": 93
        }
      ]
    },
    {
      "cell_type": "code",
      "metadata": {
        "id": "PhoOjB3dwMky"
      },
      "source": [
        "classes = [\"airplane\",\"automobile\",\"bird\",\"cat\",\"deer\",\"dog\",\"frog\",\"horse\",\"ship\",\"truck\"]"
      ],
      "execution_count": null,
      "outputs": []
    },
    {
      "cell_type": "code",
      "metadata": {
        "colab": {
          "base_uri": "https://localhost:8080/"
        },
        "id": "v1cYcm6YwXIb",
        "outputId": "1e900c9d-ab0b-468d-eacb-71ec2d1d91f9"
      },
      "source": [
        "y_classes = [np.argmax(element) for element in predictions]\n",
        "y_classes[:5]"
      ],
      "execution_count": null,
      "outputs": [
        {
          "output_type": "execute_result",
          "data": {
            "text/plain": [
              "[5, 8, 8, 0, 6]"
            ]
          },
          "metadata": {
            "tags": []
          },
          "execution_count": 95
        }
      ]
    },
    {
      "cell_type": "code",
      "metadata": {
        "colab": {
          "base_uri": "https://localhost:8080/"
        },
        "id": "ZB5INUIeFmWw",
        "outputId": "6185c60c-70b1-48e5-82d2-73cf4cb6ef70"
      },
      "source": [
        "y_classes_test = [np.argmax(element) for element in y_test]\n",
        "y_classes_test[:5]"
      ],
      "execution_count": null,
      "outputs": [
        {
          "output_type": "execute_result",
          "data": {
            "text/plain": [
              "[3, 8, 8, 0, 6]"
            ]
          },
          "metadata": {
            "tags": []
          },
          "execution_count": 96
        }
      ]
    },
    {
      "cell_type": "code",
      "metadata": {
        "colab": {
          "base_uri": "https://localhost:8080/",
          "height": 111
        },
        "id": "_ofdRDhMvzfF",
        "outputId": "87e32416-bab4-4cf4-b87e-439a3bfb52c8"
      },
      "source": [
        "import matplotlib.pyplot as plt\n",
        "for i in range(5):\n",
        "    # define subplot\n",
        "    plt.subplot(4,5, i+1)\n",
        "    plt.title(classes[y_classes[i]])\n",
        "    # plot raw pixel data\n",
        "    plt.imshow(X_test[i])\n",
        "# show the figure\n",
        "plt.show()"
      ],
      "execution_count": null,
      "outputs": [
        {
          "output_type": "display_data",
          "data": {
            "image/png": "[encoded data removed]",
            "text/plain": [
              "<Figure size 432x288 with 5 Axes>"
            ]
          },
          "metadata": {
            "tags": [],
            "needs_background": "light"
          }
        }
      ]
    },
    {
      "cell_type": "code",
      "metadata": {
        "colab": {
          "base_uri": "https://localhost:8080/",
          "height": 111
        },
        "id": "jauqTX75EE1j",
        "outputId": "11a47514-03c2-43dc-8ac2-aa7fa61c2d90"
      },
      "source": [
        "import matplotlib.pyplot as plt\n",
        "for i in range(5):\n",
        "    # define subplot\n",
        "    plt.subplot(4,5, i+1)\n",
        "    plt.title(classes[y_classes_test[i]])\n",
        "    # plot raw pixel data\n",
        "    plt.imshow(X_test[i])\n",
        "# show the figure\n",
        "plt.show()"
      ],
      "execution_count": null,
      "outputs": [
        {
          "output_type": "display_data",
          "data": {
            "image/png": "[encoded data removed]",
            "text/plain": [
              "<Figure size 432x288 with 5 Axes>"
            ]
          },
          "metadata": {
            "tags": [],
            "needs_background": "light"
          }
        }
      ]
    },
    {
      "cell_type": "code",
      "metadata": {
        "colab": {
          "base_uri": "https://localhost:8080/"
        },
        "id": "H3p-T56tLXLy",
        "outputId": "362ff19c-519d-4055-e619-47ea8d518474"
      },
      "source": [
        "y_test"
      ],
      "execution_count": null,
      "outputs": [
        {
          "output_type": "execute_result",
          "data": {
            "text/plain": [
              "array([[0., 0., 0., ..., 0., 0., 0.],\n",
              "       [0., 0., 0., ..., 0., 1., 0.],\n",
              "       [0., 0., 0., ..., 0., 1., 0.],\n",
              "       ...,\n",
              "       [0., 0., 0., ..., 0., 0., 0.],\n",
              "       [0., 1., 0., ..., 0., 0., 0.],\n",
              "       [0., 0., 0., ..., 1., 0., 0.]], dtype=float32)"
            ]
          },
          "metadata": {
            "tags": []
          },
          "execution_count": 112
        }
      ]
    },
    {
      "cell_type": "code",
      "metadata": {
        "id": "UdvoYdNlNiAj"
      },
      "source": [
        "preds = np.argmax(predictions, axis=1)\n",
        "y_test_rev = np.argmax(y_test, axis=1)"
      ],
      "execution_count": null,
      "outputs": []
    },
    {
      "cell_type": "code",
      "metadata": {
        "colab": {
          "base_uri": "https://localhost:8080/"
        },
        "id": "yUOMuUA_NPqK",
        "outputId": "a87dfb07-ee3e-4e5b-c4fa-10d6b077bdc4"
      },
      "source": [
        "from sklearn import metrics\n",
        "print(\"Test Accuracy = \", metrics.accuracy_score(y_test_rev, preds))"
      ],
      "execution_count": null,
      "outputs": [
        {
          "output_type": "stream",
          "text": [
            "Test Accuracy =  0.6871\n"
          ],
          "name": "stdout"
        }
      ]
    },
    {
      "cell_type": "code",
      "metadata": {
        "colab": {
          "base_uri": "https://localhost:8080/",
          "height": 35
        },
        "id": "QGNgr2h1NR8s",
        "outputId": "c8da4323-85c1-4934-f4e2-2e20b68ac7c0"
      },
      "source": [
        "import shutil, sys \n",
        "shutil.move(\"/content/my_dir\", \"/content/drive/MyDrive/Colab Notebooks\") "
      ],
      "execution_count": null,
      "outputs": [
        {
          "output_type": "execute_result",
          "data": {
            "application/vnd.google.colaboratory.intrinsic+json": {
              "type": "string"
            },
            "text/plain": [
              "'/content/drive/MyDrive/Colab Notebooks/my_dir'"
            ]
          },
          "metadata": {
            "tags": []
          },
          "execution_count": 127
        }
      ]
    },
    {
      "cell_type": "code",
      "metadata": {
        "colab": {
          "base_uri": "https://localhost:8080/",
          "height": 35
        },
        "id": "qhItudKUQf2s",
        "outputId": "48c24580-7a78-4b1e-e09a-6a242a7ad3cb"
      },
      "source": [
        "shutil.move(\"/content/final_model.h5\", \"/content/drive/MyDrive/Colab Notebooks\") \n",
        "shutil.move(\"/content/weights-improvement-01-0.52.hdf5\", \"/content/drive/MyDrive/Colab Notebooks\") \n",
        "shutil.move(\"/content/weights-improvement-02-0.54.hdf5\", \"/content/drive/MyDrive/Colab Notebooks\")\n",
        "shutil.move(\"/content/weights-improvement-03-0.64.hdf5\", \"/content/drive/MyDrive/Colab Notebooks\")\n",
        "shutil.move(\"/content/weights-improvement-04-0.65.hdf5\", \"/content/drive/MyDrive/Colab Notebooks\")\n",
        "shutil.move(\"/content/weights-improvement-06-0.66.hdf5\", \"/content/drive/MyDrive/Colab Notebooks\")\n",
        "shutil.move(\"/content/weights-improvement-08-0.68.hdf5\", \"/content/drive/MyDrive/Colab Notebooks\")\n",
        "shutil.move(\"/content/weights-improvement-12-0.70.hdf5\", \"/content/drive/MyDrive/Colab Notebooks\")"
      ],
      "execution_count": null,
      "outputs": [
        {
          "output_type": "execute_result",
          "data": {
            "application/vnd.google.colaboratory.intrinsic+json": {
              "type": "string"
            },
            "text/plain": [
              "'/content/drive/MyDrive/Colab Notebooks/weights-improvement-12-0.70.hdf5'"
            ]
          },
          "metadata": {
            "tags": []
          },
          "execution_count": 128
        }
      ]
    },
    {
      "cell_type": "code",
      "metadata": {
        "id": "XBn_Ycp8RNC1"
      },
      "source": [
        ""
      ],
      "execution_count": null,
      "outputs": []
    }
  ]
}